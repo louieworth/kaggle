{
 "cells": [
  {
   "cell_type": "markdown",
   "metadata": {},
   "source": [
    "![image](https://storage.googleapis.com/kaggle-competitions/kaggle/9994/logos/header.png?t=2019-10-04-23-03-48)"
   ]
  },
  {
   "cell_type": "markdown",
   "metadata": {},
   "source": [
    "- <a href='#1'>1. 数据读入</a>\n",
    "- <a href='#2'>2. 经典模型</a>\n",
    "- <a href='#3'>3. Lightgbm模型</a> <a id='4'></a>"
   ]
  },
  {
   "cell_type": "markdown",
   "metadata": {},
   "source": [
    "# <a id='1'>1. 数据读入</a> (<a href='#4'>返回</a>)"
   ]
  },
  {
   "cell_type": "code",
   "execution_count": 1,
   "metadata": {
    "collapsed": true
   },
   "outputs": [],
   "source": [
    "import random\n",
    "import datetime\n",
    "import os,gc,math\n",
    "import numpy as np \n",
    "import pandas as pd\n",
    "import seaborn as sns\n",
    "import lightgbm as lgb\n",
    "import matplotlib.pyplot as plt\n",
    "from sklearn.linear_model import LinearRegression,Lasso,Ridge\n",
    "from sklearn.svm import LinearSVR\n",
    "from sklearn.model_selection import KFold\n",
    "from sklearn.metrics import mean_squared_error\n",
    "from sklearn.preprocessing import LabelEncoder,StandardScaler\n",
    "from pandas.api.types import is_categorical_dtype\n",
    "from pandas.api.types import is_datetime64_any_dtype as is_datetime\n",
    "%matplotlib inline"
   ]
  },
  {
   "cell_type": "code",
   "execution_count": 2,
   "metadata": {
    "collapsed": true
   },
   "outputs": [],
   "source": [
    "train_df = pd.read_pickle(\"../input/train.pickle\")\n",
    "test_df = pd.read_pickle(\"../input/test.pickle\")\n"
   ]
  },
  {
   "cell_type": "code",
   "execution_count": 3,
   "metadata": {
    "scrolled": true
   },
   "outputs": [
    {
     "data": {
      "text/html": [
       "<div>\n",
       "<style scoped>\n",
       "    .dataframe tbody tr th:only-of-type {\n",
       "        vertical-align: middle;\n",
       "    }\n",
       "\n",
       "    .dataframe tbody tr th {\n",
       "        vertical-align: top;\n",
       "    }\n",
       "\n",
       "    .dataframe thead th {\n",
       "        text-align: right;\n",
       "    }\n",
       "</style>\n",
       "<table border=\"1\" class=\"dataframe\">\n",
       "  <thead>\n",
       "    <tr style=\"text-align: right;\">\n",
       "      <th></th>\n",
       "      <th>building_id</th>\n",
       "      <th>meter</th>\n",
       "      <th>meter_reading</th>\n",
       "      <th>site_id</th>\n",
       "      <th>primary_use</th>\n",
       "      <th>square_feet</th>\n",
       "      <th>air_temperature</th>\n",
       "      <th>cloud_coverage</th>\n",
       "      <th>dew_temperature</th>\n",
       "      <th>precip_depth_1_hr</th>\n",
       "      <th>hour</th>\n",
       "      <th>weekend</th>\n",
       "      <th>is_holiday</th>\n",
       "      <th>primary_use_FE</th>\n",
       "      <th>air_temperature_mean_lag24</th>\n",
       "    </tr>\n",
       "  </thead>\n",
       "  <tbody>\n",
       "    <tr>\n",
       "      <td>0</td>\n",
       "      <td>105</td>\n",
       "      <td>0</td>\n",
       "      <td>23.303600</td>\n",
       "      <td>1</td>\n",
       "      <td>0</td>\n",
       "      <td>10.835938</td>\n",
       "      <td>3.800781</td>\n",
       "      <td>0.0</td>\n",
       "      <td>2.400391</td>\n",
       "      <td>0.0</td>\n",
       "      <td>0</td>\n",
       "      <td>4</td>\n",
       "      <td>1</td>\n",
       "      <td>15</td>\n",
       "      <td>26.093750</td>\n",
       "    </tr>\n",
       "    <tr>\n",
       "      <td>1</td>\n",
       "      <td>106</td>\n",
       "      <td>0</td>\n",
       "      <td>0.374600</td>\n",
       "      <td>1</td>\n",
       "      <td>0</td>\n",
       "      <td>8.585938</td>\n",
       "      <td>3.800781</td>\n",
       "      <td>0.0</td>\n",
       "      <td>2.400391</td>\n",
       "      <td>0.0</td>\n",
       "      <td>0</td>\n",
       "      <td>4</td>\n",
       "      <td>1</td>\n",
       "      <td>15</td>\n",
       "      <td>25.546875</td>\n",
       "    </tr>\n",
       "    <tr>\n",
       "      <td>2</td>\n",
       "      <td>106</td>\n",
       "      <td>3</td>\n",
       "      <td>0.000000</td>\n",
       "      <td>1</td>\n",
       "      <td>0</td>\n",
       "      <td>8.585938</td>\n",
       "      <td>3.800781</td>\n",
       "      <td>0.0</td>\n",
       "      <td>2.400391</td>\n",
       "      <td>0.0</td>\n",
       "      <td>0</td>\n",
       "      <td>4</td>\n",
       "      <td>1</td>\n",
       "      <td>15</td>\n",
       "      <td>24.640625</td>\n",
       "    </tr>\n",
       "    <tr>\n",
       "      <td>3</td>\n",
       "      <td>107</td>\n",
       "      <td>0</td>\n",
       "      <td>175.184006</td>\n",
       "      <td>1</td>\n",
       "      <td>0</td>\n",
       "      <td>11.484375</td>\n",
       "      <td>3.800781</td>\n",
       "      <td>0.0</td>\n",
       "      <td>2.400391</td>\n",
       "      <td>0.0</td>\n",
       "      <td>0</td>\n",
       "      <td>4</td>\n",
       "      <td>1</td>\n",
       "      <td>15</td>\n",
       "      <td>24.171875</td>\n",
       "    </tr>\n",
       "    <tr>\n",
       "      <td>4</td>\n",
       "      <td>108</td>\n",
       "      <td>0</td>\n",
       "      <td>91.265297</td>\n",
       "      <td>1</td>\n",
       "      <td>0</td>\n",
       "      <td>11.312500</td>\n",
       "      <td>3.800781</td>\n",
       "      <td>0.0</td>\n",
       "      <td>2.400391</td>\n",
       "      <td>0.0</td>\n",
       "      <td>0</td>\n",
       "      <td>4</td>\n",
       "      <td>1</td>\n",
       "      <td>15</td>\n",
       "      <td>23.906250</td>\n",
       "    </tr>\n",
       "  </tbody>\n",
       "</table>\n",
       "</div>"
      ],
      "text/plain": [
       "   building_id  meter  meter_reading  site_id  primary_use  square_feet  \\\n",
       "0          105      0      23.303600        1            0    10.835938   \n",
       "1          106      0       0.374600        1            0     8.585938   \n",
       "2          106      3       0.000000        1            0     8.585938   \n",
       "3          107      0     175.184006        1            0    11.484375   \n",
       "4          108      0      91.265297        1            0    11.312500   \n",
       "\n",
       "   air_temperature  cloud_coverage  dew_temperature  precip_depth_1_hr  hour  \\\n",
       "0         3.800781             0.0         2.400391                0.0     0   \n",
       "1         3.800781             0.0         2.400391                0.0     0   \n",
       "2         3.800781             0.0         2.400391                0.0     0   \n",
       "3         3.800781             0.0         2.400391                0.0     0   \n",
       "4         3.800781             0.0         2.400391                0.0     0   \n",
       "\n",
       "   weekend  is_holiday  primary_use_FE  air_temperature_mean_lag24  \n",
       "0        4           1              15                   26.093750  \n",
       "1        4           1              15                   25.546875  \n",
       "2        4           1              15                   24.640625  \n",
       "3        4           1              15                   24.171875  \n",
       "4        4           1              15                   23.906250  "
      ]
     },
     "execution_count": 3,
     "metadata": {},
     "output_type": "execute_result"
    }
   ],
   "source": [
    "train_df.head()"
   ]
  },
  {
   "cell_type": "code",
   "execution_count": 4,
   "metadata": {
    "collapsed": true
   },
   "outputs": [],
   "source": [
    "categorical_features = [\"building_id\", \"site_id\", \"meter\", \"primary_use\", \"weekend\",\"primary_use_FE\"]\n",
    "selected_features = ['building_id',\n",
    " 'meter',\n",
    " 'site_id',\n",
    " 'primary_use',\n",
    " 'square_feet',\n",
    " 'primary_use_FE',\n",
    " 'air_temperature',\n",
    " 'cloud_coverage',\n",
    " 'dew_temperature',\n",
    " 'hour',\n",
    " 'weekend',\n",
    " 'air_temperature_mean_lag24']\n",
    "target = np.log1p(train_df[\"meter_reading\"])\n",
    "features = train_df[selected_features]"
   ]
  },
  {
   "cell_type": "code",
   "execution_count": 5,
   "metadata": {},
   "outputs": [
    {
     "data": {
      "text/html": [
       "<div>\n",
       "<style scoped>\n",
       "    .dataframe tbody tr th:only-of-type {\n",
       "        vertical-align: middle;\n",
       "    }\n",
       "\n",
       "    .dataframe tbody tr th {\n",
       "        vertical-align: top;\n",
       "    }\n",
       "\n",
       "    .dataframe thead th {\n",
       "        text-align: right;\n",
       "    }\n",
       "</style>\n",
       "<table border=\"1\" class=\"dataframe\">\n",
       "  <thead>\n",
       "    <tr style=\"text-align: right;\">\n",
       "      <th></th>\n",
       "      <th>building_id</th>\n",
       "      <th>meter</th>\n",
       "      <th>site_id</th>\n",
       "      <th>primary_use</th>\n",
       "      <th>square_feet</th>\n",
       "      <th>primary_use_FE</th>\n",
       "      <th>air_temperature</th>\n",
       "      <th>cloud_coverage</th>\n",
       "      <th>dew_temperature</th>\n",
       "      <th>hour</th>\n",
       "      <th>weekend</th>\n",
       "      <th>air_temperature_mean_lag24</th>\n",
       "    </tr>\n",
       "  </thead>\n",
       "  <tbody>\n",
       "    <tr>\n",
       "      <td>0</td>\n",
       "      <td>105</td>\n",
       "      <td>0</td>\n",
       "      <td>1</td>\n",
       "      <td>0</td>\n",
       "      <td>10.835938</td>\n",
       "      <td>15</td>\n",
       "      <td>3.800781</td>\n",
       "      <td>0.0</td>\n",
       "      <td>2.400391</td>\n",
       "      <td>0</td>\n",
       "      <td>4</td>\n",
       "      <td>26.093750</td>\n",
       "    </tr>\n",
       "    <tr>\n",
       "      <td>1</td>\n",
       "      <td>106</td>\n",
       "      <td>0</td>\n",
       "      <td>1</td>\n",
       "      <td>0</td>\n",
       "      <td>8.585938</td>\n",
       "      <td>15</td>\n",
       "      <td>3.800781</td>\n",
       "      <td>0.0</td>\n",
       "      <td>2.400391</td>\n",
       "      <td>0</td>\n",
       "      <td>4</td>\n",
       "      <td>25.546875</td>\n",
       "    </tr>\n",
       "    <tr>\n",
       "      <td>2</td>\n",
       "      <td>106</td>\n",
       "      <td>3</td>\n",
       "      <td>1</td>\n",
       "      <td>0</td>\n",
       "      <td>8.585938</td>\n",
       "      <td>15</td>\n",
       "      <td>3.800781</td>\n",
       "      <td>0.0</td>\n",
       "      <td>2.400391</td>\n",
       "      <td>0</td>\n",
       "      <td>4</td>\n",
       "      <td>24.640625</td>\n",
       "    </tr>\n",
       "    <tr>\n",
       "      <td>3</td>\n",
       "      <td>107</td>\n",
       "      <td>0</td>\n",
       "      <td>1</td>\n",
       "      <td>0</td>\n",
       "      <td>11.484375</td>\n",
       "      <td>15</td>\n",
       "      <td>3.800781</td>\n",
       "      <td>0.0</td>\n",
       "      <td>2.400391</td>\n",
       "      <td>0</td>\n",
       "      <td>4</td>\n",
       "      <td>24.171875</td>\n",
       "    </tr>\n",
       "    <tr>\n",
       "      <td>4</td>\n",
       "      <td>108</td>\n",
       "      <td>0</td>\n",
       "      <td>1</td>\n",
       "      <td>0</td>\n",
       "      <td>11.312500</td>\n",
       "      <td>15</td>\n",
       "      <td>3.800781</td>\n",
       "      <td>0.0</td>\n",
       "      <td>2.400391</td>\n",
       "      <td>0</td>\n",
       "      <td>4</td>\n",
       "      <td>23.906250</td>\n",
       "    </tr>\n",
       "  </tbody>\n",
       "</table>\n",
       "</div>"
      ],
      "text/plain": [
       "   building_id  meter  site_id  primary_use  square_feet  primary_use_FE  \\\n",
       "0          105      0        1            0    10.835938              15   \n",
       "1          106      0        1            0     8.585938              15   \n",
       "2          106      3        1            0     8.585938              15   \n",
       "3          107      0        1            0    11.484375              15   \n",
       "4          108      0        1            0    11.312500              15   \n",
       "\n",
       "   air_temperature  cloud_coverage  dew_temperature  hour  weekend  \\\n",
       "0         3.800781             0.0         2.400391     0        4   \n",
       "1         3.800781             0.0         2.400391     0        4   \n",
       "2         3.800781             0.0         2.400391     0        4   \n",
       "3         3.800781             0.0         2.400391     0        4   \n",
       "4         3.800781             0.0         2.400391     0        4   \n",
       "\n",
       "   air_temperature_mean_lag24  \n",
       "0                   26.093750  \n",
       "1                   25.546875  \n",
       "2                   24.640625  \n",
       "3                   24.171875  \n",
       "4                   23.906250  "
      ]
     },
     "execution_count": 5,
     "metadata": {},
     "output_type": "execute_result"
    }
   ],
   "source": [
    "features.head()"
   ]
  },
  {
   "cell_type": "code",
   "execution_count": 9,
   "metadata": {
    "collapsed": true
   },
   "outputs": [],
   "source": [
    "kf = KFold(n_splits=3)"
   ]
  },
  {
   "cell_type": "code",
   "execution_count": 7,
   "metadata": {
    "scrolled": false
   },
   "outputs": [
    {
     "name": "stderr",
     "output_type": "stream",
     "text": [
      "/home/ubuntu/anaconda3/lib/python3.7/site-packages/ipykernel_launcher.py:2: UserWarning: Pandas doesn't allow columns to be created via a new attribute name - see https://pandas.pydata.org/pandas-docs/stable/indexing.html#attribute-access\n",
      "  \n"
     ]
    }
   ],
   "source": [
    "scaled_features = features.copy()\n",
    "scaled_features.value= StandardScaler().fit_transform(features)"
   ]
  },
  {
   "cell_type": "markdown",
   "metadata": {},
   "source": [
    "# <a id='2'>2. 经典模型</a> (<a href='#4'>返回</a>)"
   ]
  },
  {
   "cell_type": "code",
   "execution_count": 8,
   "metadata": {
    "collapsed": true
   },
   "outputs": [],
   "source": [
    "def classic_model_fit(X,y,model_name, kf,params=None):\n",
    "    i = 0;\n",
    "    models = []\n",
    "    losses = []\n",
    "    for train_index,test_index in kf.split(X):\n",
    "        train_features = X.loc[train_index]\n",
    "        train_target = y.loc[train_index]\n",
    "        test_features = X.loc[test_index]\n",
    "        test_target = y.loc[test_index]\n",
    "        if model_name == \"lasso\":\n",
    "            model = Lasso() if params==None else Lasso(params)\n",
    "        elif model_name == \"ridge\":\n",
    "            model = Ridge() if params == None else Ridge(params)\n",
    "        elif model_name == \"linearRegression\":\n",
    "            model = LinearRegression() if params == None else LinearRegression(params)\n",
    "        #这个得算很久\n",
    "        elif model_name == \"svm\":\n",
    "            model = LinearSVR() if params == None else LinearSVR(params)\n",
    "        model.fit(train_features,train_target)\n",
    "        rmse = math.sqrt(mean_squared_error(test_target,model.predict(test_features))) \n",
    "        print(\"fold %d: RMSE loss %f\"%(i,rmse))\n",
    "        models.append(model)\n",
    "        losses.append(rmse)\n",
    "        i+=1\n",
    "    print(model_name, \"CV RMSE Loss:\",np.mean(losses))\n",
    "    return models"
   ]
  },
  {
   "cell_type": "code",
   "execution_count": 45,
   "metadata": {
    "scrolled": true
   },
   "outputs": [
    {
     "name": "stdout",
     "output_type": "stream",
     "text": [
      "fold 0: RMSE loss 2.069463\n",
      "fold 1: RMSE loss 2.029070\n",
      "fold 2: RMSE loss 2.059877\n",
      "lasso  RMSE Loss: 2.052803239550938\n"
     ]
    }
   ],
   "source": [
    "lasso_models = classic_model_fit(scaled_features,target,\"lasso\",kf)"
   ]
  },
  {
   "cell_type": "code",
   "execution_count": 47,
   "metadata": {},
   "outputs": [
    {
     "name": "stdout",
     "output_type": "stream",
     "text": [
      "fold 0: RMSE loss 1.894620\n",
      "fold 1: RMSE loss 1.826174\n",
      "fold 2: RMSE loss 1.844988\n",
      "ridge CV RMSE Loss: 1.8552601811677498\n"
     ]
    }
   ],
   "source": [
    "ridge_models = classic_model_fit(scaled_features,target,\"ridge\",kf)"
   ]
  },
  {
   "cell_type": "code",
   "execution_count": 48,
   "metadata": {
    "scrolled": false
   },
   "outputs": [
    {
     "name": "stdout",
     "output_type": "stream",
     "text": [
      "fold 0: RMSE loss 1.894621\n",
      "fold 1: RMSE loss 1.826173\n",
      "fold 2: RMSE loss 1.844987\n",
      "linearRegression CV RMSE Loss: 1.8552604131670727\n"
     ]
    }
   ],
   "source": [
    "linearRegression_models = classic_model_fit(scaled_features,target,\"linearRegression\",kf)"
   ]
  },
  {
   "cell_type": "markdown",
   "metadata": {},
   "source": [
    "# <a id='3'>3. Lightgbm模型</a> "
   ]
  },
  {
   "cell_type": "code",
   "execution_count": 10,
   "metadata": {
    "scrolled": true
   },
   "outputs": [
    {
     "name": "stderr",
     "output_type": "stream",
     "text": [
      "/home/ubuntu/anaconda3/lib/python3.7/site-packages/lightgbm/basic.py:1291: UserWarning: Using categorical_feature in Dataset.\n",
      "  warnings.warn('Using categorical_feature in Dataset.')\n"
     ]
    },
    {
     "name": "stdout",
     "output_type": "stream",
     "text": [
      "Training until validation scores don't improve for 50 rounds\n",
      "[25]\ttraining's rmse: 1.12669\tvalid_1's rmse: 1.26936\n",
      "[50]\ttraining's rmse: 0.909941\tvalid_1's rmse: 1.13983\n",
      "[75]\ttraining's rmse: 0.832763\tvalid_1's rmse: 1.11689\n",
      "[100]\ttraining's rmse: 0.792983\tvalid_1's rmse: 1.11798\n",
      "[125]\ttraining's rmse: 0.764071\tvalid_1's rmse: 1.12084\n",
      "Early stopping, best iteration is:\n",
      "[82]\ttraining's rmse: 0.819948\tvalid_1's rmse: 1.11622\n",
      "Training until validation scores don't improve for 50 rounds\n",
      "[25]\ttraining's rmse: 1.13221\tvalid_1's rmse: 1.2366\n",
      "[50]\ttraining's rmse: 0.914312\tvalid_1's rmse: 1.07788\n",
      "[75]\ttraining's rmse: 0.843477\tvalid_1's rmse: 1.04301\n",
      "[100]\ttraining's rmse: 0.807414\tvalid_1's rmse: 1.03101\n",
      "[125]\ttraining's rmse: 0.783747\tvalid_1's rmse: 1.02898\n",
      "[150]\ttraining's rmse: 0.765844\tvalid_1's rmse: 1.02906\n",
      "[175]\ttraining's rmse: 0.75399\tvalid_1's rmse: 1.0295\n",
      "Early stopping, best iteration is:\n",
      "[130]\ttraining's rmse: 0.780127\tvalid_1's rmse: 1.02873\n",
      "Training until validation scores don't improve for 50 rounds\n",
      "[25]\ttraining's rmse: 1.10113\tvalid_1's rmse: 1.27652\n",
      "[50]\ttraining's rmse: 0.864559\tvalid_1's rmse: 1.15734\n",
      "[75]\ttraining's rmse: 0.781427\tvalid_1's rmse: 1.14429\n",
      "[100]\ttraining's rmse: 0.742274\tvalid_1's rmse: 1.14768\n",
      "Early stopping, best iteration is:\n",
      "[73]\ttraining's rmse: 0.78462\tvalid_1's rmse: 1.1439\n"
     ]
    }
   ],
   "source": [
    "params = {\n",
    "    \"objective\": \"regression\",\n",
    "    \"boosting\": \"gbdt\",\n",
    "    \"num_leaves\": 1280,\n",
    "    \"learning_rate\": 0.05,\n",
    "    \"feature_fraction\": 0.85,\n",
    "    \"reg_lambda\": 2,\n",
    "    \"metric\": \"rmse\",\n",
    "    \"random_seed\":10\n",
    "}\n",
    "\n",
    "models = []\n",
    "history = []\n",
    "for train_index,test_index in kf.split(features):\n",
    "    train_features = features.loc[train_index]\n",
    "    train_target = target.loc[train_index]\n",
    "    \n",
    "    test_features = features.loc[test_index]\n",
    "    test_target = target.loc[test_index]\n",
    "    \n",
    "    d_training = lgb.Dataset(train_features, label=train_target,categorical_feature=categorical_features, free_raw_data=False)\n",
    "    d_test = lgb.Dataset(test_features, label=test_target,categorical_feature=categorical_features, free_raw_data=False)\n",
    "    \n",
    "    model = lgb.train(params, train_set=d_training, num_boost_round=1000,valid_sets=[d_training,d_test], verbose_eval=25, early_stopping_rounds=50)\n",
    "    models.append(model)\n",
    "    del train_features, train_target, test_features, test_target, d_training, d_test\n",
    "    gc.collect()"
   ]
  },
  {
   "cell_type": "code",
   "execution_count": 11,
   "metadata": {
    "scrolled": true
   },
   "outputs": [
    {
     "data": {
      "text/plain": [
       "1.096282970046483"
      ]
     },
     "execution_count": 11,
     "metadata": {},
     "output_type": "execute_result"
    }
   ],
   "source": [
    "cv_scores = np.mean([model.best_score['valid_1']['rmse'] for model in models])\n",
    "cv_scores"
   ]
  },
  {
   "cell_type": "markdown",
   "metadata": {},
   "source": [
    "# <a  id='7'>7. 打印特征重要性</a> (<a href='#9'>返回</a>)"
   ]
  },
  {
   "cell_type": "code",
   "execution_count": 12,
   "metadata": {},
   "outputs": [
    {
     "data": {
      "image/png": "[encoded data removed]",
      "text/plain": [
       "<Figure size 432x288 with 1 Axes>"
      ]
     },
     "metadata": {
      "needs_background": "light"
     },
     "output_type": "display_data"
    },
    {
     "data": {
      "image/png": "[encoded data removed]",
      "text/plain": [
       "<Figure size 432x288 with 1 Axes>"
      ]
     },
     "metadata": {
      "needs_background": "light"
     },
     "output_type": "display_data"
    },
    {
     "data": {
      "image/png": "[encoded data removed]",
      "text/plain": [
       "<Figure size 432x288 with 1 Axes>"
      ]
     },
     "metadata": {
      "needs_background": "light"
     },
     "output_type": "display_data"
    }
   ],
   "source": [
    "for model in models:\n",
    "    lgb.plot_importance(model)\n",
    "    plt.show()"
   ]
  },
  {
   "cell_type": "code",
   "execution_count": 15,
   "metadata": {},
   "outputs": [
    {
     "name": "stderr",
     "output_type": "stream",
     "text": [
      "/home/ubuntu/anaconda3/lib/python3.7/site-packages/ipykernel_launcher.py:3: DeprecationWarning: elementwise comparison failed; this will raise an error in the future.\n",
      "  This is separate from the ipykernel package so we can avoid doing imports until\n"
     ]
    }
   ],
   "source": [
    "results = []\n",
    "for model in models:\n",
    "    if  results == []:\n",
    "        results = np.expm1(model.predict(test_df[selected_features], num_iteration=model.best_iteration)) / len(models)\n",
    "    else:\n",
    "        results += np.expm1(model.predict(test_df[selected_features], num_iteration=model.best_iteration)) / len(models)\n",
    "    del model\n",
    "    gc.collect()"
   ]
  },
  {
   "cell_type": "code",
   "execution_count": 1,
   "metadata": {},
   "outputs": [
    {
     "ename": "NameError",
     "evalue": "name 'pd' is not defined",
     "output_type": "error",
     "traceback": [
      "\u001b[0;31m---------------------------------------------------------------------------\u001b[0m",
      "\u001b[0;31mNameError\u001b[0m                                 Traceback (most recent call last)",
      "\u001b[0;32m<ipython-input-1-8bf7e804f0ae>\u001b[0m in \u001b[0;36m<module>\u001b[0;34m\u001b[0m\n\u001b[0;32m----> 1\u001b[0;31m \u001b[0mresults_df\u001b[0m \u001b[0;34m=\u001b[0m \u001b[0mpd\u001b[0m\u001b[0;34m.\u001b[0m\u001b[0mDataFrame\u001b[0m\u001b[0;34m(\u001b[0m\u001b[0;34m{\u001b[0m\u001b[0;34m\"row_id\"\u001b[0m\u001b[0;34m:\u001b[0m \u001b[0mrow_ids\u001b[0m\u001b[0;34m,\u001b[0m \u001b[0;34m\"meter_reading\"\u001b[0m\u001b[0;34m:\u001b[0m \u001b[0mnp\u001b[0m\u001b[0;34m.\u001b[0m\u001b[0mclip\u001b[0m\u001b[0;34m(\u001b[0m\u001b[0mresults\u001b[0m\u001b[0;34m,\u001b[0m \u001b[0;36m0\u001b[0m\u001b[0;34m,\u001b[0m \u001b[0ma_max\u001b[0m\u001b[0;34m=\u001b[0m\u001b[0;32mNone\u001b[0m\u001b[0;34m)\u001b[0m\u001b[0;34m}\u001b[0m\u001b[0;34m)\u001b[0m\u001b[0;34m\u001b[0m\u001b[0;34m\u001b[0m\u001b[0m\n\u001b[0m\u001b[1;32m      2\u001b[0m \u001b[0;32mdel\u001b[0m \u001b[0mrow_ids\u001b[0m\u001b[0;34m,\u001b[0m\u001b[0mresults\u001b[0m\u001b[0;34m,\u001b[0m\u001b[0mtest_df\u001b[0m\u001b[0;34m,\u001b[0m\u001b[0mmodels\u001b[0m\u001b[0;34m\u001b[0m\u001b[0;34m\u001b[0m\u001b[0m\n\u001b[1;32m      3\u001b[0m \u001b[0mgc\u001b[0m\u001b[0;34m.\u001b[0m\u001b[0mcollect\u001b[0m\u001b[0;34m(\u001b[0m\u001b[0;34m)\u001b[0m\u001b[0;34m\u001b[0m\u001b[0;34m\u001b[0m\u001b[0m\n\u001b[1;32m      4\u001b[0m \u001b[0;34m\u001b[0m\u001b[0m\n\u001b[1;32m      5\u001b[0m \u001b[0mresults_df\u001b[0m\u001b[0;34m.\u001b[0m\u001b[0mto_csv\u001b[0m\u001b[0;34m(\u001b[0m\u001b[0;34m\"submission.csv\"\u001b[0m\u001b[0;34m,\u001b[0m \u001b[0mindex\u001b[0m\u001b[0;34m=\u001b[0m\u001b[0;32mFalse\u001b[0m\u001b[0;34m,\u001b[0m\u001b[0mfloat_format\u001b[0m\u001b[0;34m=\u001b[0m\u001b[0;34m'%.4f'\u001b[0m\u001b[0;34m)\u001b[0m\u001b[0;34m\u001b[0m\u001b[0;34m\u001b[0m\u001b[0m\n",
      "\u001b[0;31mNameError\u001b[0m: name 'pd' is not defined"
     ]
    }
   ],
   "source": [
    "results_df = pd.DataFrame({\"row_id\": row_ids, \"meter_reading\": np.clip(results, 0, a_max=None)})\n",
    "del row_ids,results,test_df,models\n",
    "gc.collect()\n",
    "\n",
    "results_df.to_csv(\"submission.csv\", index=False,float_format='%.4f')\n",
    "results_df.head(20)"
   ]
  },
  {
   "cell_type": "code",
   "execution_count": null,
   "metadata": {
    "collapsed": true
   },
   "outputs": [],
   "source": []
  }
 ],
 "metadata": {
  "kernelspec": {
   "display_name": "Python 3",
   "language": "python",
   "name": "python3"
  },
  "language_info": {
   "codemirror_mode": {
    "name": "ipython",
    "version": 3
   },
   "file_extension": ".py",
   "mimetype": "text/x-python",
   "name": "python",
   "nbconvert_exporter": "python",
   "pygments_lexer": "ipython3",
   "version": "3.6.3"
  }
 },
 "nbformat": 4,
 "nbformat_minor": 2
}
